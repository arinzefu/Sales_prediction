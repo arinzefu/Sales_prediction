{
 "cells": [
  {
   "cell_type": "code",
   "execution_count": 1,
   "id": "initial_id",
   "metadata": {
    "collapsed": true,
    "ExecuteTime": {
     "end_time": "2023-09-25T09:14:52.654429400Z",
     "start_time": "2023-09-25T09:14:51.932341600Z"
    }
   },
   "outputs": [],
   "source": [
    "import pandas as pd\n",
    "import numpy as np\n",
    "import matplotlib.pyplot as plt\n",
    "import seaborn as sns\n",
    "from sklearn.model_selection import train_test_split"
   ]
  },
  {
   "cell_type": "code",
   "execution_count": 2,
   "outputs": [],
   "source": [
    "df = pd.read_csv('ECommerce_consumer behaviour.csv')"
   ],
   "metadata": {
    "collapsed": false,
    "ExecuteTime": {
     "end_time": "2023-09-25T09:14:54.341963500Z",
     "start_time": "2023-09-25T09:14:52.153755900Z"
    }
   },
   "id": "8d5ccde7a627fe"
  },
  {
   "cell_type": "code",
   "execution_count": 3,
   "outputs": [
    {
     "data": {
      "text/plain": "   order_id  user_id  order_number  order_dow  order_hour_of_day  \\\n0   2425083    49125             1          2                 18   \n1   2425083    49125             1          2                 18   \n2   2425083    49125             1          2                 18   \n3   2425083    49125             1          2                 18   \n4   2425083    49125             1          2                 18   \n\n   days_since_prior_order  product_id  add_to_cart_order  reordered  \\\n0                     NaN          17                  1          0   \n1                     NaN          91                  2          0   \n2                     NaN          36                  3          0   \n3                     NaN          83                  4          0   \n4                     NaN          83                  5          0   \n\n   department_id  department        product_name  \n0             13      pantry  baking ingredients  \n1             16  dairy eggs     soy lactosefree  \n2             16  dairy eggs              butter  \n3              4     produce    fresh vegetables  \n4              4     produce    fresh vegetables  ",
      "text/html": "<div>\n<style scoped>\n    .dataframe tbody tr th:only-of-type {\n        vertical-align: middle;\n    }\n\n    .dataframe tbody tr th {\n        vertical-align: top;\n    }\n\n    .dataframe thead th {\n        text-align: right;\n    }\n</style>\n<table border=\"1\" class=\"dataframe\">\n  <thead>\n    <tr style=\"text-align: right;\">\n      <th></th>\n      <th>order_id</th>\n      <th>user_id</th>\n      <th>order_number</th>\n      <th>order_dow</th>\n      <th>order_hour_of_day</th>\n      <th>days_since_prior_order</th>\n      <th>product_id</th>\n      <th>add_to_cart_order</th>\n      <th>reordered</th>\n      <th>department_id</th>\n      <th>department</th>\n      <th>product_name</th>\n    </tr>\n  </thead>\n  <tbody>\n    <tr>\n      <th>0</th>\n      <td>2425083</td>\n      <td>49125</td>\n      <td>1</td>\n      <td>2</td>\n      <td>18</td>\n      <td>NaN</td>\n      <td>17</td>\n      <td>1</td>\n      <td>0</td>\n      <td>13</td>\n      <td>pantry</td>\n      <td>baking ingredients</td>\n    </tr>\n    <tr>\n      <th>1</th>\n      <td>2425083</td>\n      <td>49125</td>\n      <td>1</td>\n      <td>2</td>\n      <td>18</td>\n      <td>NaN</td>\n      <td>91</td>\n      <td>2</td>\n      <td>0</td>\n      <td>16</td>\n      <td>dairy eggs</td>\n      <td>soy lactosefree</td>\n    </tr>\n    <tr>\n      <th>2</th>\n      <td>2425083</td>\n      <td>49125</td>\n      <td>1</td>\n      <td>2</td>\n      <td>18</td>\n      <td>NaN</td>\n      <td>36</td>\n      <td>3</td>\n      <td>0</td>\n      <td>16</td>\n      <td>dairy eggs</td>\n      <td>butter</td>\n    </tr>\n    <tr>\n      <th>3</th>\n      <td>2425083</td>\n      <td>49125</td>\n      <td>1</td>\n      <td>2</td>\n      <td>18</td>\n      <td>NaN</td>\n      <td>83</td>\n      <td>4</td>\n      <td>0</td>\n      <td>4</td>\n      <td>produce</td>\n      <td>fresh vegetables</td>\n    </tr>\n    <tr>\n      <th>4</th>\n      <td>2425083</td>\n      <td>49125</td>\n      <td>1</td>\n      <td>2</td>\n      <td>18</td>\n      <td>NaN</td>\n      <td>83</td>\n      <td>5</td>\n      <td>0</td>\n      <td>4</td>\n      <td>produce</td>\n      <td>fresh vegetables</td>\n    </tr>\n  </tbody>\n</table>\n</div>"
     },
     "execution_count": 3,
     "metadata": {},
     "output_type": "execute_result"
    }
   ],
   "source": [
    "df.head()"
   ],
   "metadata": {
    "collapsed": false,
    "ExecuteTime": {
     "end_time": "2023-09-25T09:14:54.397819200Z",
     "start_time": "2023-09-25T09:14:54.349943500Z"
    }
   },
   "id": "2c8bf8f30885023b"
  },
  {
   "cell_type": "code",
   "execution_count": 4,
   "outputs": [
    {
     "data": {
      "text/plain": "           order_id       user_id  order_number     order_dow  \\\ncount  2.019501e+06  2.019501e+06  2.019501e+06  2.019501e+06   \nmean   1.707013e+06  1.030673e+05  1.715138e+01  2.735367e+00   \nstd    9.859832e+05  5.949117e+04  1.752576e+01  2.093882e+00   \nmin    1.000000e+01  2.000000e+00  1.000000e+00  0.000000e+00   \n25%    8.526490e+05  5.158400e+04  5.000000e+00  1.000000e+00   \n50%    1.705004e+06  1.026900e+05  1.100000e+01  3.000000e+00   \n75%    2.559031e+06  1.546000e+05  2.400000e+01  5.000000e+00   \nmax    3.421080e+06  2.062090e+05  1.000000e+02  6.000000e+00   \n\n       order_hour_of_day  days_since_prior_order    product_id  \\\ncount       2.019501e+06            1.895159e+06  2.019501e+06   \nmean        1.343948e+01            1.138603e+01  7.120590e+01   \nstd         4.241008e+00            8.970980e+00  3.820727e+01   \nmin         0.000000e+00            0.000000e+00  1.000000e+00   \n25%         1.000000e+01            5.000000e+00  3.100000e+01   \n50%         1.300000e+01            8.000000e+00  8.300000e+01   \n75%         1.600000e+01            1.500000e+01  1.070000e+02   \nmax         2.300000e+01            3.000000e+01  1.340000e+02   \n\n       add_to_cart_order     reordered  department_id  \ncount       2.019501e+06  2.019501e+06   2.019501e+06  \nmean        8.363173e+00  5.897427e-01   9.928349e+00  \nstd         7.150059e+00  4.918804e-01   6.282933e+00  \nmin         1.000000e+00  0.000000e+00   1.000000e+00  \n25%         3.000000e+00  0.000000e+00   4.000000e+00  \n50%         6.000000e+00  1.000000e+00   9.000000e+00  \n75%         1.100000e+01  1.000000e+00   1.600000e+01  \nmax         1.370000e+02  1.000000e+00   2.100000e+01  ",
      "text/html": "<div>\n<style scoped>\n    .dataframe tbody tr th:only-of-type {\n        vertical-align: middle;\n    }\n\n    .dataframe tbody tr th {\n        vertical-align: top;\n    }\n\n    .dataframe thead th {\n        text-align: right;\n    }\n</style>\n<table border=\"1\" class=\"dataframe\">\n  <thead>\n    <tr style=\"text-align: right;\">\n      <th></th>\n      <th>order_id</th>\n      <th>user_id</th>\n      <th>order_number</th>\n      <th>order_dow</th>\n      <th>order_hour_of_day</th>\n      <th>days_since_prior_order</th>\n      <th>product_id</th>\n      <th>add_to_cart_order</th>\n      <th>reordered</th>\n      <th>department_id</th>\n    </tr>\n  </thead>\n  <tbody>\n    <tr>\n      <th>count</th>\n      <td>2.019501e+06</td>\n      <td>2.019501e+06</td>\n      <td>2.019501e+06</td>\n      <td>2.019501e+06</td>\n      <td>2.019501e+06</td>\n      <td>1.895159e+06</td>\n      <td>2.019501e+06</td>\n      <td>2.019501e+06</td>\n      <td>2.019501e+06</td>\n      <td>2.019501e+06</td>\n    </tr>\n    <tr>\n      <th>mean</th>\n      <td>1.707013e+06</td>\n      <td>1.030673e+05</td>\n      <td>1.715138e+01</td>\n      <td>2.735367e+00</td>\n      <td>1.343948e+01</td>\n      <td>1.138603e+01</td>\n      <td>7.120590e+01</td>\n      <td>8.363173e+00</td>\n      <td>5.897427e-01</td>\n      <td>9.928349e+00</td>\n    </tr>\n    <tr>\n      <th>std</th>\n      <td>9.859832e+05</td>\n      <td>5.949117e+04</td>\n      <td>1.752576e+01</td>\n      <td>2.093882e+00</td>\n      <td>4.241008e+00</td>\n      <td>8.970980e+00</td>\n      <td>3.820727e+01</td>\n      <td>7.150059e+00</td>\n      <td>4.918804e-01</td>\n      <td>6.282933e+00</td>\n    </tr>\n    <tr>\n      <th>min</th>\n      <td>1.000000e+01</td>\n      <td>2.000000e+00</td>\n      <td>1.000000e+00</td>\n      <td>0.000000e+00</td>\n      <td>0.000000e+00</td>\n      <td>0.000000e+00</td>\n      <td>1.000000e+00</td>\n      <td>1.000000e+00</td>\n      <td>0.000000e+00</td>\n      <td>1.000000e+00</td>\n    </tr>\n    <tr>\n      <th>25%</th>\n      <td>8.526490e+05</td>\n      <td>5.158400e+04</td>\n      <td>5.000000e+00</td>\n      <td>1.000000e+00</td>\n      <td>1.000000e+01</td>\n      <td>5.000000e+00</td>\n      <td>3.100000e+01</td>\n      <td>3.000000e+00</td>\n      <td>0.000000e+00</td>\n      <td>4.000000e+00</td>\n    </tr>\n    <tr>\n      <th>50%</th>\n      <td>1.705004e+06</td>\n      <td>1.026900e+05</td>\n      <td>1.100000e+01</td>\n      <td>3.000000e+00</td>\n      <td>1.300000e+01</td>\n      <td>8.000000e+00</td>\n      <td>8.300000e+01</td>\n      <td>6.000000e+00</td>\n      <td>1.000000e+00</td>\n      <td>9.000000e+00</td>\n    </tr>\n    <tr>\n      <th>75%</th>\n      <td>2.559031e+06</td>\n      <td>1.546000e+05</td>\n      <td>2.400000e+01</td>\n      <td>5.000000e+00</td>\n      <td>1.600000e+01</td>\n      <td>1.500000e+01</td>\n      <td>1.070000e+02</td>\n      <td>1.100000e+01</td>\n      <td>1.000000e+00</td>\n      <td>1.600000e+01</td>\n    </tr>\n    <tr>\n      <th>max</th>\n      <td>3.421080e+06</td>\n      <td>2.062090e+05</td>\n      <td>1.000000e+02</td>\n      <td>6.000000e+00</td>\n      <td>2.300000e+01</td>\n      <td>3.000000e+01</td>\n      <td>1.340000e+02</td>\n      <td>1.370000e+02</td>\n      <td>1.000000e+00</td>\n      <td>2.100000e+01</td>\n    </tr>\n  </tbody>\n</table>\n</div>"
     },
     "execution_count": 4,
     "metadata": {},
     "output_type": "execute_result"
    }
   ],
   "source": [
    "df.describe()"
   ],
   "metadata": {
    "collapsed": false,
    "ExecuteTime": {
     "end_time": "2023-09-25T09:14:55.278484700Z",
     "start_time": "2023-09-25T09:14:54.377870800Z"
    }
   },
   "id": "34524c4f7b4cac2a"
  },
  {
   "cell_type": "code",
   "execution_count": 5,
   "outputs": [
    {
     "name": "stdout",
     "output_type": "stream",
     "text": [
      "Total number of unique values of user_id: 105273\n"
     ]
    }
   ],
   "source": [
    "unique_values = df['user_id'].unique()\n",
    "\n",
    "# Calculate the total number of unique values\n",
    "total_unique_count = len(unique_values)\n",
    "\n",
    "# Print the total number of unique values\n",
    "print(\"Total number of unique values of user_id:\", total_unique_count)"
   ],
   "metadata": {
    "collapsed": false,
    "ExecuteTime": {
     "end_time": "2023-09-25T09:14:55.452025400Z",
     "start_time": "2023-09-25T09:14:55.257540Z"
    }
   },
   "id": "37d024191f782229"
  },
  {
   "cell_type": "code",
   "execution_count": 6,
   "outputs": [
    {
     "data": {
      "text/plain": "(2019501, 12)"
     },
     "execution_count": 6,
     "metadata": {},
     "output_type": "execute_result"
    }
   ],
   "source": [
    "df.shape"
   ],
   "metadata": {
    "collapsed": false,
    "ExecuteTime": {
     "end_time": "2023-09-25T09:14:55.453023200Z",
     "start_time": "2023-09-25T09:14:55.337329500Z"
    }
   },
   "id": "836824c245db6f85"
  },
  {
   "cell_type": "code",
   "execution_count": 7,
   "outputs": [
    {
     "name": "stdout",
     "output_type": "stream",
     "text": [
      "10 most occurring user IDs:\n",
      "user_id\n",
      "176478    460\n",
      "129928    405\n",
      "126305    384\n",
      "201268    347\n",
      "115495    283\n",
      "100330    271\n",
      "31903     270\n",
      "15503     258\n",
      "105213    245\n",
      "203166    240\n",
      "Name: count, dtype: int64\n",
      "\n",
      "10 least occurring user IDs:\n",
      "user_id\n",
      "58172     1\n",
      "190320    1\n",
      "77948     1\n",
      "199102    1\n",
      "47656     1\n",
      "124195    1\n",
      "192874    1\n",
      "73682     1\n",
      "118192    1\n",
      "170728    1\n",
      "Name: count, dtype: int64\n"
     ]
    }
   ],
   "source": [
    "# Use the 'value_counts' method to count the occurrences of each user_id\n",
    "value_counts = df['user_id'].value_counts()\n",
    "\n",
    "# Print the 10 most occurring user IDs\n",
    "print(\"10 most occurring user IDs:\")\n",
    "print(value_counts.head(10))\n",
    "\n",
    "# Print the 10 least occurring user IDs\n",
    "print(\"\\n10 least occurring user IDs:\")\n",
    "print(value_counts.tail(10))"
   ],
   "metadata": {
    "collapsed": false,
    "ExecuteTime": {
     "end_time": "2023-09-25T09:14:55.562735100Z",
     "start_time": "2023-09-25T09:14:55.355281900Z"
    }
   },
   "id": "22f98b09ee5117b0"
  },
  {
   "cell_type": "code",
   "execution_count": 8,
   "outputs": [
    {
     "name": "stdout",
     "output_type": "stream",
     "text": [
      "                             0\n",
      "days_since_prior_order  124342\n",
      "order_id                     0\n",
      "user_id                      0\n",
      "order_number                 0\n",
      "order_dow                    0\n",
      "order_hour_of_day            0\n",
      "product_id                   0\n",
      "add_to_cart_order            0\n",
      "reordered                    0\n",
      "department_id                0\n",
      "department                   0\n",
      "product_name                 0\n"
     ]
    }
   ],
   "source": [
    "missingV = df.isnull().sum().sort_values(ascending=False)\n",
    "missingV = pd.DataFrame(data=df.isnull().sum().sort_values(ascending=False))\n",
    "print(missingV)"
   ],
   "metadata": {
    "collapsed": false,
    "ExecuteTime": {
     "end_time": "2023-09-25T09:14:55.956723Z",
     "start_time": "2023-09-25T09:14:55.447040300Z"
    }
   },
   "id": "cdc5894cc32bd6fc"
  },
  {
   "cell_type": "code",
   "execution_count": 9,
   "outputs": [
    {
     "data": {
      "text/plain": "array([nan,  3.,  6.,  7., 30., 20.,  4.,  8., 15., 10., 28.,  9., 12.,\n       11.,  2., 25., 13., 29., 14., 21.,  5.,  1., 18.,  0., 19., 17.,\n       22., 26., 24., 16., 23., 27.])"
     },
     "execution_count": 9,
     "metadata": {},
     "output_type": "execute_result"
    }
   ],
   "source": [
    "df['days_since_prior_order'].unique()\n"
   ],
   "metadata": {
    "collapsed": false,
    "ExecuteTime": {
     "end_time": "2023-09-25T09:14:56.021550900Z",
     "start_time": "2023-09-25T09:14:55.935746100Z"
    }
   },
   "id": "9b09392098c4dfd5"
  },
  {
   "cell_type": "code",
   "execution_count": 10,
   "outputs": [],
   "source": [
    "# Replacing the 'nan' values\n",
    "for col in df.columns:\n",
    "    if df[col].dtypes == 'float64':\n",
    "        df[col].fillna(-1,inplace=True) "
   ],
   "metadata": {
    "collapsed": false,
    "ExecuteTime": {
     "end_time": "2023-09-25T09:14:56.093328100Z",
     "start_time": "2023-09-25T09:14:56.002568200Z"
    }
   },
   "id": "771c4eb6808de0f0"
  },
  {
   "cell_type": "code",
   "execution_count": 11,
   "outputs": [
    {
     "data": {
      "text/plain": "   order_id  user_id  order_number  order_dow  order_hour_of_day  \\\n0   2425083    49125             1          2                 18   \n1   2425083    49125             1          2                 18   \n2   2425083    49125             1          2                 18   \n3   2425083    49125             1          2                 18   \n4   2425083    49125             1          2                 18   \n\n   days_since_prior_order  product_id  add_to_cart_order  reordered  \\\n0                    -1.0          17                  1          0   \n1                    -1.0          91                  2          0   \n2                    -1.0          36                  3          0   \n3                    -1.0          83                  4          0   \n4                    -1.0          83                  5          0   \n\n   department_id  department        product_name  \n0             13      pantry  baking ingredients  \n1             16  dairy eggs     soy lactosefree  \n2             16  dairy eggs              butter  \n3              4     produce    fresh vegetables  \n4              4     produce    fresh vegetables  ",
      "text/html": "<div>\n<style scoped>\n    .dataframe tbody tr th:only-of-type {\n        vertical-align: middle;\n    }\n\n    .dataframe tbody tr th {\n        vertical-align: top;\n    }\n\n    .dataframe thead th {\n        text-align: right;\n    }\n</style>\n<table border=\"1\" class=\"dataframe\">\n  <thead>\n    <tr style=\"text-align: right;\">\n      <th></th>\n      <th>order_id</th>\n      <th>user_id</th>\n      <th>order_number</th>\n      <th>order_dow</th>\n      <th>order_hour_of_day</th>\n      <th>days_since_prior_order</th>\n      <th>product_id</th>\n      <th>add_to_cart_order</th>\n      <th>reordered</th>\n      <th>department_id</th>\n      <th>department</th>\n      <th>product_name</th>\n    </tr>\n  </thead>\n  <tbody>\n    <tr>\n      <th>0</th>\n      <td>2425083</td>\n      <td>49125</td>\n      <td>1</td>\n      <td>2</td>\n      <td>18</td>\n      <td>-1.0</td>\n      <td>17</td>\n      <td>1</td>\n      <td>0</td>\n      <td>13</td>\n      <td>pantry</td>\n      <td>baking ingredients</td>\n    </tr>\n    <tr>\n      <th>1</th>\n      <td>2425083</td>\n      <td>49125</td>\n      <td>1</td>\n      <td>2</td>\n      <td>18</td>\n      <td>-1.0</td>\n      <td>91</td>\n      <td>2</td>\n      <td>0</td>\n      <td>16</td>\n      <td>dairy eggs</td>\n      <td>soy lactosefree</td>\n    </tr>\n    <tr>\n      <th>2</th>\n      <td>2425083</td>\n      <td>49125</td>\n      <td>1</td>\n      <td>2</td>\n      <td>18</td>\n      <td>-1.0</td>\n      <td>36</td>\n      <td>3</td>\n      <td>0</td>\n      <td>16</td>\n      <td>dairy eggs</td>\n      <td>butter</td>\n    </tr>\n    <tr>\n      <th>3</th>\n      <td>2425083</td>\n      <td>49125</td>\n      <td>1</td>\n      <td>2</td>\n      <td>18</td>\n      <td>-1.0</td>\n      <td>83</td>\n      <td>4</td>\n      <td>0</td>\n      <td>4</td>\n      <td>produce</td>\n      <td>fresh vegetables</td>\n    </tr>\n    <tr>\n      <th>4</th>\n      <td>2425083</td>\n      <td>49125</td>\n      <td>1</td>\n      <td>2</td>\n      <td>18</td>\n      <td>-1.0</td>\n      <td>83</td>\n      <td>5</td>\n      <td>0</td>\n      <td>4</td>\n      <td>produce</td>\n      <td>fresh vegetables</td>\n    </tr>\n  </tbody>\n</table>\n</div>"
     },
     "execution_count": 11,
     "metadata": {},
     "output_type": "execute_result"
    }
   ],
   "source": [
    "df.head()"
   ],
   "metadata": {
    "collapsed": false,
    "ExecuteTime": {
     "end_time": "2023-09-25T09:14:56.095322Z",
     "start_time": "2023-09-25T09:14:56.030494800Z"
    }
   },
   "id": "ec866b62fc452d69"
  },
  {
   "cell_type": "code",
   "execution_count": 12,
   "outputs": [],
   "source": [
    "df['days_since_prior_order']= df['days_since_prior_order'].astype(np.int64)"
   ],
   "metadata": {
    "collapsed": false,
    "ExecuteTime": {
     "end_time": "2023-09-25T09:14:56.112321800Z",
     "start_time": "2023-09-25T09:14:56.065409Z"
    }
   },
   "id": "5ac6b51d0a223a93"
  },
  {
   "cell_type": "code",
   "execution_count": 13,
   "outputs": [
    {
     "data": {
      "text/plain": "order_id                  200000\nuser_id                   105273\norder_number                 100\norder_dow                      7\norder_hour_of_day             24\ndays_since_prior_order        32\nproduct_id                   134\nadd_to_cart_order            137\nreordered                      2\ndepartment_id                 21\ndepartment                    21\nproduct_name                 134\ndtype: int64"
     },
     "execution_count": 13,
     "metadata": {},
     "output_type": "execute_result"
    }
   ],
   "source": [
    "df.nunique()"
   ],
   "metadata": {
    "collapsed": false,
    "ExecuteTime": {
     "end_time": "2023-09-25T09:14:56.820403600Z",
     "start_time": "2023-09-25T09:14:56.097318200Z"
    }
   },
   "id": "90a57551f3616620"
  },
  {
   "cell_type": "code",
   "execution_count": 14,
   "outputs": [
    {
     "name": "stdout",
     "output_type": "stream",
     "text": [
      "<class 'pandas.core.frame.DataFrame'>\n",
      "RangeIndex: 2019501 entries, 0 to 2019500\n",
      "Data columns (total 12 columns):\n",
      " #   Column                  Dtype \n",
      "---  ------                  ----- \n",
      " 0   order_id                int64 \n",
      " 1   user_id                 int64 \n",
      " 2   order_number            int64 \n",
      " 3   order_dow               int64 \n",
      " 4   order_hour_of_day       int64 \n",
      " 5   days_since_prior_order  int64 \n",
      " 6   product_id              int64 \n",
      " 7   add_to_cart_order       int64 \n",
      " 8   reordered               int64 \n",
      " 9   department_id           int64 \n",
      " 10  department              object\n",
      " 11  product_name            object\n",
      "dtypes: int64(10), object(2)\n",
      "memory usage: 184.9+ MB\n"
     ]
    }
   ],
   "source": [
    "df.info()"
   ],
   "metadata": {
    "collapsed": false,
    "ExecuteTime": {
     "end_time": "2023-09-25T09:14:56.821404300Z",
     "start_time": "2023-09-25T09:14:56.805443800Z"
    }
   },
   "id": "8d26ae9cc14c59a"
  },
  {
   "cell_type": "code",
   "execution_count": 15,
   "outputs": [
    {
     "name": "stderr",
     "output_type": "stream",
     "text": [
      "C:\\Users\\dell 5590 i7\\AppData\\Local\\Programs\\Python\\Python310\\lib\\site-packages\\seaborn\\_oldcore.py:1498: FutureWarning: is_categorical_dtype is deprecated and will be removed in a future version. Use isinstance(dtype, CategoricalDtype) instead\n",
      "  if pd.api.types.is_categorical_dtype(vector):\n",
      "C:\\Users\\dell 5590 i7\\AppData\\Local\\Programs\\Python\\Python310\\lib\\site-packages\\seaborn\\_oldcore.py:1498: FutureWarning: is_categorical_dtype is deprecated and will be removed in a future version. Use isinstance(dtype, CategoricalDtype) instead\n",
      "  if pd.api.types.is_categorical_dtype(vector):\n",
      "C:\\Users\\dell 5590 i7\\AppData\\Local\\Programs\\Python\\Python310\\lib\\site-packages\\seaborn\\_oldcore.py:1498: FutureWarning: is_categorical_dtype is deprecated and will be removed in a future version. Use isinstance(dtype, CategoricalDtype) instead\n",
      "  if pd.api.types.is_categorical_dtype(vector):\n"
     ]
    },
    {
     "data": {
      "text/plain": "<Figure size 1700x1500 with 1 Axes>",
      "image/png": "[encoded data removed]"
     },
     "metadata": {},
     "output_type": "display_data"
    }
   ],
   "source": [
    "grouped = df.groupby(\"order_id\")[\"order_dow\"].aggregate(\"max\").reset_index()\n",
    "grouped = grouped.order_dow.value_counts()\n",
    "\n",
    "sns.set_style('darkgrid')\n",
    "sns.set_palette(\"rocket_r\")\n",
    "f, ax = plt.subplots(figsize=(17, 15))\n",
    "sns.barplot(x=grouped.index, y=grouped.values, ax=ax)\n",
    "ax.grid(True, axis='y')\n",
    "plt.xticks(rotation='vertical', fontsize=15)\n",
    "plt.yticks(fontsize=12)\n",
    "plt.ylabel('Number of Orders', fontsize=15)\n",
    "plt.xlabel('Day of The Week', fontsize=15)\n",
    "plt.xticks([0,1, 2, 3, 4, 5, 6],[\"Sunday\", \"Monday\", \"Tuesday\", \"Wednesday\", \"Thursday\", \"Friday\", \"Saturday\"])\n",
    "plt.title('Number of Orders Made Each Day', fontsize=20)\n",
    "plt.show()\n"
   ],
   "metadata": {
    "collapsed": false,
    "ExecuteTime": {
     "end_time": "2023-09-25T09:14:58.063121600Z",
     "start_time": "2023-09-25T09:14:56.824393600Z"
    }
   },
   "id": "6f73f5aa34b9650d"
  },
  {
   "cell_type": "code",
   "execution_count": 16,
   "outputs": [
    {
     "data": {
      "text/plain": "<Figure size 1000x800 with 2 Axes>",
      "image/png": "[encoded data removed]"
     },
     "metadata": {},
     "output_type": "display_data"
    }
   ],
   "source": [
    " # Create a pivot table to aggregate the data\n",
    "pivot_table = df.pivot_table(index='order_dow', columns='order_hour_of_day', values='order_id', aggfunc='count')\n",
    "\n",
    "# Create a heatmap without annotations inside the cells\n",
    "plt.figure(figsize=(10, 8))\n",
    "sns.set(font_scale=1)\n",
    "sns.heatmap(pivot_table, cmap='Reds', annot=False, fmt='d', linewidths=0.5)\n",
    "plt.title('Number of Orders by Day of the Week and Hour of the Day', fontsize=15)\n",
    "plt.xlabel('Hour of the Day')\n",
    "plt.ylabel('Day of the Week')\n",
    "plt.yticks([0,1, 2, 3, 4, 5, 6],[\"Sunday\",\"Monday\", \"Tuesday\", \"Wednesday\", \"Thursday\", \"Friday\", \"Saturday\"])\n",
    "plt.xticks(range(24), [\"12am\", \"1am\", \"2am\", \"3am\", \"4am\", \"5am\", \"6am\", \"7am\", \"8am\", \"9am\", \"10am\", \"11am\", \"12pm\", \"1pm\", \"2pm\", \"3pm\", \"4pm\", \"5pm\", \"6pm\", \"7pm\", \"8pm\", \"9pm\", \"10pm\", \"11pm\"])\n",
    "plt.xticks(rotation=45)\n",
    "plt.show()\n"
   ],
   "metadata": {
    "collapsed": false,
    "ExecuteTime": {
     "end_time": "2023-09-25T09:14:58.967721900Z",
     "start_time": "2023-09-25T09:14:58.033194500Z"
    }
   },
   "id": "c9e4ca2829ba8c77"
  },
  {
   "cell_type": "code",
   "execution_count": 17,
   "outputs": [
    {
     "data": {
      "text/plain": "   order_id  user_id  order_number  order_dow  order_hour_of_day  \\\n0   2425083    49125             1          2                 18   \n1   2425083    49125             1          2                 18   \n2   2425083    49125             1          2                 18   \n3   2425083    49125             1          2                 18   \n4   2425083    49125             1          2                 18   \n\n   days_since_prior_order  product_id  add_to_cart_order  reordered  \\\n0                      -1          17                  1          0   \n1                      -1          91                  2          0   \n2                      -1          36                  3          0   \n3                      -1          83                  4          0   \n4                      -1          83                  5          0   \n\n   department_id  \n0             13  \n1             16  \n2             16  \n3              4  \n4              4  ",
      "text/html": "<div>\n<style scoped>\n    .dataframe tbody tr th:only-of-type {\n        vertical-align: middle;\n    }\n\n    .dataframe tbody tr th {\n        vertical-align: top;\n    }\n\n    .dataframe thead th {\n        text-align: right;\n    }\n</style>\n<table border=\"1\" class=\"dataframe\">\n  <thead>\n    <tr style=\"text-align: right;\">\n      <th></th>\n      <th>order_id</th>\n      <th>user_id</th>\n      <th>order_number</th>\n      <th>order_dow</th>\n      <th>order_hour_of_day</th>\n      <th>days_since_prior_order</th>\n      <th>product_id</th>\n      <th>add_to_cart_order</th>\n      <th>reordered</th>\n      <th>department_id</th>\n    </tr>\n  </thead>\n  <tbody>\n    <tr>\n      <th>0</th>\n      <td>2425083</td>\n      <td>49125</td>\n      <td>1</td>\n      <td>2</td>\n      <td>18</td>\n      <td>-1</td>\n      <td>17</td>\n      <td>1</td>\n      <td>0</td>\n      <td>13</td>\n    </tr>\n    <tr>\n      <th>1</th>\n      <td>2425083</td>\n      <td>49125</td>\n      <td>1</td>\n      <td>2</td>\n      <td>18</td>\n      <td>-1</td>\n      <td>91</td>\n      <td>2</td>\n      <td>0</td>\n      <td>16</td>\n    </tr>\n    <tr>\n      <th>2</th>\n      <td>2425083</td>\n      <td>49125</td>\n      <td>1</td>\n      <td>2</td>\n      <td>18</td>\n      <td>-1</td>\n      <td>36</td>\n      <td>3</td>\n      <td>0</td>\n      <td>16</td>\n    </tr>\n    <tr>\n      <th>3</th>\n      <td>2425083</td>\n      <td>49125</td>\n      <td>1</td>\n      <td>2</td>\n      <td>18</td>\n      <td>-1</td>\n      <td>83</td>\n      <td>4</td>\n      <td>0</td>\n      <td>4</td>\n    </tr>\n    <tr>\n      <th>4</th>\n      <td>2425083</td>\n      <td>49125</td>\n      <td>1</td>\n      <td>2</td>\n      <td>18</td>\n      <td>-1</td>\n      <td>83</td>\n      <td>5</td>\n      <td>0</td>\n      <td>4</td>\n    </tr>\n  </tbody>\n</table>\n</div>"
     },
     "execution_count": 17,
     "metadata": {},
     "output_type": "execute_result"
    }
   ],
   "source": [
    "df = df.drop(['product_name', 'department'], axis=1)\n",
    "df.head()"
   ],
   "metadata": {
    "collapsed": false,
    "ExecuteTime": {
     "end_time": "2023-09-25T09:14:59.114363900Z",
     "start_time": "2023-09-25T09:14:58.957745600Z"
    }
   },
   "id": "da8497b1f7477c19"
  },
  {
   "cell_type": "code",
   "execution_count": 18,
   "outputs": [
    {
     "data": {
      "text/plain": "Index(['order_id', 'user_id', 'order_number', 'order_dow', 'order_hour_of_day',\n       'days_since_prior_order', 'product_id', 'add_to_cart_order',\n       'reordered', 'department_id'],\n      dtype='object')"
     },
     "execution_count": 18,
     "metadata": {},
     "output_type": "execute_result"
    }
   ],
   "source": [
    "df.columns"
   ],
   "metadata": {
    "collapsed": false,
    "ExecuteTime": {
     "end_time": "2023-09-25T09:14:59.114363900Z",
     "start_time": "2023-09-25T09:14:59.036537400Z"
    }
   },
   "id": "dc5a2eb805dc6afa"
  },
  {
   "cell_type": "code",
   "execution_count": 19,
   "outputs": [],
   "source": [
    "user_avg_order_size = df.groupby('user_id')['add_to_cart_order'].mean().reset_index()\n",
    "user_avg_order_size.rename(columns={'add_to_cart_order': 'avg_order_size'}, inplace=True)\n"
   ],
   "metadata": {
    "collapsed": false,
    "ExecuteTime": {
     "end_time": "2023-09-25T09:14:59.279896200Z",
     "start_time": "2023-09-25T09:14:59.053492600Z"
    }
   },
   "id": "5281872fb51b3e7e"
  },
  {
   "cell_type": "code",
   "execution_count": 20,
   "outputs": [
    {
     "data": {
      "text/plain": "        user_id  avg_order_size\n0             2        3.272727\n1             3        3.947368\n2             7       12.500000\n3            10       15.500000\n4            11        6.000000\n...         ...             ...\n105268   206204       10.500000\n105269   206205        4.000000\n105270   206206        3.133333\n105271   206208        7.961538\n105272   206209        5.375000\n\n[105273 rows x 2 columns]",
      "text/html": "<div>\n<style scoped>\n    .dataframe tbody tr th:only-of-type {\n        vertical-align: middle;\n    }\n\n    .dataframe tbody tr th {\n        vertical-align: top;\n    }\n\n    .dataframe thead th {\n        text-align: right;\n    }\n</style>\n<table border=\"1\" class=\"dataframe\">\n  <thead>\n    <tr style=\"text-align: right;\">\n      <th></th>\n      <th>user_id</th>\n      <th>avg_order_size</th>\n    </tr>\n  </thead>\n  <tbody>\n    <tr>\n      <th>0</th>\n      <td>2</td>\n      <td>3.272727</td>\n    </tr>\n    <tr>\n      <th>1</th>\n      <td>3</td>\n      <td>3.947368</td>\n    </tr>\n    <tr>\n      <th>2</th>\n      <td>7</td>\n      <td>12.500000</td>\n    </tr>\n    <tr>\n      <th>3</th>\n      <td>10</td>\n      <td>15.500000</td>\n    </tr>\n    <tr>\n      <th>4</th>\n      <td>11</td>\n      <td>6.000000</td>\n    </tr>\n    <tr>\n      <th>...</th>\n      <td>...</td>\n      <td>...</td>\n    </tr>\n    <tr>\n      <th>105268</th>\n      <td>206204</td>\n      <td>10.500000</td>\n    </tr>\n    <tr>\n      <th>105269</th>\n      <td>206205</td>\n      <td>4.000000</td>\n    </tr>\n    <tr>\n      <th>105270</th>\n      <td>206206</td>\n      <td>3.133333</td>\n    </tr>\n    <tr>\n      <th>105271</th>\n      <td>206208</td>\n      <td>7.961538</td>\n    </tr>\n    <tr>\n      <th>105272</th>\n      <td>206209</td>\n      <td>5.375000</td>\n    </tr>\n  </tbody>\n</table>\n<p>105273 rows × 2 columns</p>\n</div>"
     },
     "execution_count": 20,
     "metadata": {},
     "output_type": "execute_result"
    }
   ],
   "source": [
    "user_avg_order_size"
   ],
   "metadata": {
    "collapsed": false,
    "ExecuteTime": {
     "end_time": "2023-09-25T09:14:59.281943500Z",
     "start_time": "2023-09-25T09:14:59.183149100Z"
    }
   },
   "id": "478ff634e2e033cb"
  },
  {
   "cell_type": "code",
   "execution_count": 21,
   "outputs": [],
   "source": [
    "user_most_frequent_products = df.groupby('user_id')['product_id'].agg(lambda x: x.mode().iloc[0]).reset_index()\n",
    "user_most_frequent_products.rename(columns={'product_id': 'most_frequent_product'}, inplace=True)\n"
   ],
   "metadata": {
    "collapsed": false,
    "ExecuteTime": {
     "end_time": "2023-09-25T09:15:13.082357700Z",
     "start_time": "2023-09-25T09:14:59.197114500Z"
    }
   },
   "id": "b3eaa9533907779f"
  },
  {
   "cell_type": "code",
   "execution_count": 22,
   "outputs": [
    {
     "data": {
      "text/plain": "        user_id  most_frequent_product\n0             2                     24\n1             3                     24\n2             7                     31\n3            10                     16\n4            11                     17\n...         ...                    ...\n105268   206204                     34\n105269   206205                     21\n105270   206206                     37\n105271   206208                     24\n105272   206209                     24\n\n[105273 rows x 2 columns]",
      "text/html": "<div>\n<style scoped>\n    .dataframe tbody tr th:only-of-type {\n        vertical-align: middle;\n    }\n\n    .dataframe tbody tr th {\n        vertical-align: top;\n    }\n\n    .dataframe thead th {\n        text-align: right;\n    }\n</style>\n<table border=\"1\" class=\"dataframe\">\n  <thead>\n    <tr style=\"text-align: right;\">\n      <th></th>\n      <th>user_id</th>\n      <th>most_frequent_product</th>\n    </tr>\n  </thead>\n  <tbody>\n    <tr>\n      <th>0</th>\n      <td>2</td>\n      <td>24</td>\n    </tr>\n    <tr>\n      <th>1</th>\n      <td>3</td>\n      <td>24</td>\n    </tr>\n    <tr>\n      <th>2</th>\n      <td>7</td>\n      <td>31</td>\n    </tr>\n    <tr>\n      <th>3</th>\n      <td>10</td>\n      <td>16</td>\n    </tr>\n    <tr>\n      <th>4</th>\n      <td>11</td>\n      <td>17</td>\n    </tr>\n    <tr>\n      <th>...</th>\n      <td>...</td>\n      <td>...</td>\n    </tr>\n    <tr>\n      <th>105268</th>\n      <td>206204</td>\n      <td>34</td>\n    </tr>\n    <tr>\n      <th>105269</th>\n      <td>206205</td>\n      <td>21</td>\n    </tr>\n    <tr>\n      <th>105270</th>\n      <td>206206</td>\n      <td>37</td>\n    </tr>\n    <tr>\n      <th>105271</th>\n      <td>206208</td>\n      <td>24</td>\n    </tr>\n    <tr>\n      <th>105272</th>\n      <td>206209</td>\n      <td>24</td>\n    </tr>\n  </tbody>\n</table>\n<p>105273 rows × 2 columns</p>\n</div>"
     },
     "execution_count": 22,
     "metadata": {},
     "output_type": "execute_result"
    }
   ],
   "source": [
    "user_most_frequent_products"
   ],
   "metadata": {
    "collapsed": false,
    "ExecuteTime": {
     "end_time": "2023-09-25T09:15:13.104300500Z",
     "start_time": "2023-09-25T09:15:13.084354500Z"
    }
   },
   "id": "f30e2399d7680778"
  },
  {
   "cell_type": "code",
   "execution_count": 23,
   "outputs": [],
   "source": [
    "product_reorder_stats = df.groupby('product_id')['reordered'].agg(['count', 'sum']).reset_index()\n",
    "product_reorder_stats['reorder_rate'] = product_reorder_stats['sum'] / product_reorder_stats['count']\n",
    "product_reorder_stats.drop(['count', 'sum'], axis=1, inplace=True)\n"
   ],
   "metadata": {
    "collapsed": false,
    "ExecuteTime": {
     "end_time": "2023-09-25T09:15:13.250913900Z",
     "start_time": "2023-09-25T09:15:13.102305900Z"
    }
   },
   "id": "469ba58ed1b548ea"
  },
  {
   "cell_type": "code",
   "execution_count": 24,
   "outputs": [],
   "source": [
    "product_popularity = df['product_id'].value_counts().reset_index()\n",
    "product_popularity.columns = ['product_id', 'popularity']\n"
   ],
   "metadata": {
    "collapsed": false,
    "ExecuteTime": {
     "end_time": "2023-09-25T09:15:13.261884800Z",
     "start_time": "2023-09-25T09:15:13.165142600Z"
    }
   },
   "id": "eb5fbc9a9d5c768e"
  },
  {
   "cell_type": "code",
   "execution_count": 25,
   "outputs": [
    {
     "data": {
      "text/plain": "     product_id  popularity\n0            24      226039\n1            83      212611\n2           123      109596\n3           120       90751\n4            21       61502\n..          ...         ...\n129          10         561\n130         102         515\n131          82         504\n132         132         387\n133         113         279\n\n[134 rows x 2 columns]",
      "text/html": "<div>\n<style scoped>\n    .dataframe tbody tr th:only-of-type {\n        vertical-align: middle;\n    }\n\n    .dataframe tbody tr th {\n        vertical-align: top;\n    }\n\n    .dataframe thead th {\n        text-align: right;\n    }\n</style>\n<table border=\"1\" class=\"dataframe\">\n  <thead>\n    <tr style=\"text-align: right;\">\n      <th></th>\n      <th>product_id</th>\n      <th>popularity</th>\n    </tr>\n  </thead>\n  <tbody>\n    <tr>\n      <th>0</th>\n      <td>24</td>\n      <td>226039</td>\n    </tr>\n    <tr>\n      <th>1</th>\n      <td>83</td>\n      <td>212611</td>\n    </tr>\n    <tr>\n      <th>2</th>\n      <td>123</td>\n      <td>109596</td>\n    </tr>\n    <tr>\n      <th>3</th>\n      <td>120</td>\n      <td>90751</td>\n    </tr>\n    <tr>\n      <th>4</th>\n      <td>21</td>\n      <td>61502</td>\n    </tr>\n    <tr>\n      <th>...</th>\n      <td>...</td>\n      <td>...</td>\n    </tr>\n    <tr>\n      <th>129</th>\n      <td>10</td>\n      <td>561</td>\n    </tr>\n    <tr>\n      <th>130</th>\n      <td>102</td>\n      <td>515</td>\n    </tr>\n    <tr>\n      <th>131</th>\n      <td>82</td>\n      <td>504</td>\n    </tr>\n    <tr>\n      <th>132</th>\n      <td>132</td>\n      <td>387</td>\n    </tr>\n    <tr>\n      <th>133</th>\n      <td>113</td>\n      <td>279</td>\n    </tr>\n  </tbody>\n</table>\n<p>134 rows × 2 columns</p>\n</div>"
     },
     "execution_count": 25,
     "metadata": {},
     "output_type": "execute_result"
    }
   ],
   "source": [
    "product_popularity"
   ],
   "metadata": {
    "collapsed": false,
    "ExecuteTime": {
     "end_time": "2023-09-25T09:15:13.262881500Z",
     "start_time": "2023-09-25T09:15:13.197055Z"
    }
   },
   "id": "cfe7ad3fa2a6a7ce"
  },
  {
   "cell_type": "code",
   "execution_count": 26,
   "outputs": [],
   "source": [
    "# Merge user-specific features into df based on 'user_id'\n",
    "df = df.merge(user_avg_order_size, on='user_id', how='left')\n",
    "df = df.merge(user_most_frequent_products, on='user_id', how='left')\n"
   ],
   "metadata": {
    "collapsed": false,
    "ExecuteTime": {
     "end_time": "2023-09-25T09:15:14.342025300Z",
     "start_time": "2023-09-25T09:15:13.231964500Z"
    }
   },
   "id": "e25041cfb7ca2c74"
  },
  {
   "cell_type": "code",
   "execution_count": 27,
   "outputs": [],
   "source": [
    "# Merge product-specific features into df based on 'product_id'\n",
    "df = df.merge(product_reorder_stats, on='product_id', how='left')\n",
    "df = df.merge(product_popularity, on='product_id', how='left')\n"
   ],
   "metadata": {
    "collapsed": false,
    "ExecuteTime": {
     "end_time": "2023-09-25T09:15:15.274556500Z",
     "start_time": "2023-09-25T09:15:14.344021200Z"
    }
   },
   "id": "1e4708c7783b32e7"
  },
  {
   "cell_type": "code",
   "execution_count": 28,
   "outputs": [
    {
     "data": {
      "text/plain": "   order_id  user_id  order_number  order_dow  order_hour_of_day  \\\n0   2425083    49125             1          2                 18   \n1   2425083    49125             1          2                 18   \n2   2425083    49125             1          2                 18   \n3   2425083    49125             1          2                 18   \n4   2425083    49125             1          2                 18   \n\n   days_since_prior_order  product_id  add_to_cart_order  reordered  \\\n0                      -1          17                  1          0   \n1                      -1          91                  2          0   \n2                      -1          36                  3          0   \n3                      -1          83                  4          0   \n4                      -1          83                  5          0   \n\n   department_id  avg_order_size  most_frequent_product  reorder_rate  \\\n0             13        4.259259                     91      0.305160   \n1             16        4.259259                     91      0.691843   \n2             16        4.259259                     91      0.575914   \n3              4        4.259259                     91      0.593436   \n4              4        4.259259                     91      0.593436   \n\n   popularity  \n0       20137  \n1       39389  \n2       15735  \n3      212611  \n4      212611  ",
      "text/html": "<div>\n<style scoped>\n    .dataframe tbody tr th:only-of-type {\n        vertical-align: middle;\n    }\n\n    .dataframe tbody tr th {\n        vertical-align: top;\n    }\n\n    .dataframe thead th {\n        text-align: right;\n    }\n</style>\n<table border=\"1\" class=\"dataframe\">\n  <thead>\n    <tr style=\"text-align: right;\">\n      <th></th>\n      <th>order_id</th>\n      <th>user_id</th>\n      <th>order_number</th>\n      <th>order_dow</th>\n      <th>order_hour_of_day</th>\n      <th>days_since_prior_order</th>\n      <th>product_id</th>\n      <th>add_to_cart_order</th>\n      <th>reordered</th>\n      <th>department_id</th>\n      <th>avg_order_size</th>\n      <th>most_frequent_product</th>\n      <th>reorder_rate</th>\n      <th>popularity</th>\n    </tr>\n  </thead>\n  <tbody>\n    <tr>\n      <th>0</th>\n      <td>2425083</td>\n      <td>49125</td>\n      <td>1</td>\n      <td>2</td>\n      <td>18</td>\n      <td>-1</td>\n      <td>17</td>\n      <td>1</td>\n      <td>0</td>\n      <td>13</td>\n      <td>4.259259</td>\n      <td>91</td>\n      <td>0.305160</td>\n      <td>20137</td>\n    </tr>\n    <tr>\n      <th>1</th>\n      <td>2425083</td>\n      <td>49125</td>\n      <td>1</td>\n      <td>2</td>\n      <td>18</td>\n      <td>-1</td>\n      <td>91</td>\n      <td>2</td>\n      <td>0</td>\n      <td>16</td>\n      <td>4.259259</td>\n      <td>91</td>\n      <td>0.691843</td>\n      <td>39389</td>\n    </tr>\n    <tr>\n      <th>2</th>\n      <td>2425083</td>\n      <td>49125</td>\n      <td>1</td>\n      <td>2</td>\n      <td>18</td>\n      <td>-1</td>\n      <td>36</td>\n      <td>3</td>\n      <td>0</td>\n      <td>16</td>\n      <td>4.259259</td>\n      <td>91</td>\n      <td>0.575914</td>\n      <td>15735</td>\n    </tr>\n    <tr>\n      <th>3</th>\n      <td>2425083</td>\n      <td>49125</td>\n      <td>1</td>\n      <td>2</td>\n      <td>18</td>\n      <td>-1</td>\n      <td>83</td>\n      <td>4</td>\n      <td>0</td>\n      <td>4</td>\n      <td>4.259259</td>\n      <td>91</td>\n      <td>0.593436</td>\n      <td>212611</td>\n    </tr>\n    <tr>\n      <th>4</th>\n      <td>2425083</td>\n      <td>49125</td>\n      <td>1</td>\n      <td>2</td>\n      <td>18</td>\n      <td>-1</td>\n      <td>83</td>\n      <td>5</td>\n      <td>0</td>\n      <td>4</td>\n      <td>4.259259</td>\n      <td>91</td>\n      <td>0.593436</td>\n      <td>212611</td>\n    </tr>\n  </tbody>\n</table>\n</div>"
     },
     "execution_count": 28,
     "metadata": {},
     "output_type": "execute_result"
    }
   ],
   "source": [
    "df.head()"
   ],
   "metadata": {
    "collapsed": false,
    "ExecuteTime": {
     "end_time": "2023-09-25T09:15:15.343373900Z",
     "start_time": "2023-09-25T09:15:15.284530Z"
    }
   },
   "id": "6af64ac1337cd2eb"
  },
  {
   "cell_type": "code",
   "execution_count": 29,
   "outputs": [],
   "source": [
    "import xgboost as xgb\n",
    "from sklearn.model_selection import train_test_split\n",
    "from sklearn.metrics import accuracy_score\n"
   ],
   "metadata": {
    "collapsed": false,
    "ExecuteTime": {
     "end_time": "2023-09-25T09:15:15.731346800Z",
     "start_time": "2023-09-25T09:15:15.310462100Z"
    }
   },
   "id": "8c2ddb50049db4e6"
  },
  {
   "cell_type": "code",
   "execution_count": 30,
   "outputs": [],
   "source": [
    "# Define your X (features) and y (target) matrices\n",
    "X = df[['user_id', 'order_number', 'order_dow', 'order_hour_of_day',\n",
    "        'days_since_prior_order', 'add_to_cart_order',\n",
    "        'avg_order_size', 'most_frequent_product',\n",
    "        'reorder_rate', 'popularity']]\n",
    "\n",
    "y = df['product_id']"
   ],
   "metadata": {
    "collapsed": false,
    "ExecuteTime": {
     "end_time": "2023-09-25T09:15:15.834076500Z",
     "start_time": "2023-09-25T09:15:15.390251Z"
    }
   },
   "id": "9b1f660ebb624bb0"
  },
  {
   "cell_type": "code",
   "execution_count": 31,
   "outputs": [],
   "source": [
    "y = y - 1"
   ],
   "metadata": {
    "collapsed": false,
    "ExecuteTime": {
     "end_time": "2023-09-25T09:15:15.841059700Z",
     "start_time": "2023-09-25T09:15:15.483004800Z"
    }
   },
   "id": "491ba2b224997e55"
  },
  {
   "cell_type": "code",
   "execution_count": 32,
   "outputs": [
    {
     "name": "stdout",
     "output_type": "stream",
     "text": [
      "Shape of y (target): (2019501,)\n",
      "Shape of X (input features): (2019501, 10)\n"
     ]
    }
   ],
   "source": [
    "# Verify the shapes of the target and input feature datasets\n",
    "print(\"Shape of y (target):\", y.shape)\n",
    "print(\"Shape of X (input features):\", X.shape)"
   ],
   "metadata": {
    "collapsed": false,
    "ExecuteTime": {
     "end_time": "2023-09-25T09:15:15.842055Z",
     "start_time": "2023-09-25T09:15:15.498965500Z"
    }
   },
   "id": "bce1cb512113380a"
  },
  {
   "cell_type": "code",
   "execution_count": 33,
   "outputs": [
    {
     "name": "stdout",
     "output_type": "stream",
     "text": [
      "Shape of X_train: (1635795, 10)\n",
      "Shape of y_train: (1635795,)\n",
      "Shape of X_val: (181755, 10)\n",
      "Shape of y_val: (181755,)\n",
      "Shape of X_test: (201951, 10)\n",
      "Shape of y_test: (201951,)\n"
     ]
    }
   ],
   "source": [
    "# Split the data into train and test sets\n",
    "X_train, X_test, y_train, y_test = train_test_split(X, y, test_size=0.1, random_state=42)\n",
    "\n",
    "# Further split the train set into train and validation sets\n",
    "X_train, X_val, y_train, y_val = train_test_split(X_train, y_train, test_size=0.1, random_state=42)\n",
    "\n",
    "# Verify the shapes of the train, validation, and test sets\n",
    "print(\"Shape of X_train:\", X_train.shape)\n",
    "print(\"Shape of y_train:\", y_train.shape)\n",
    "print(\"Shape of X_val:\", X_val.shape)\n",
    "print(\"Shape of y_val:\", y_val.shape)\n",
    "print(\"Shape of X_test:\", X_test.shape)\n",
    "print(\"Shape of y_test:\", y_test.shape)"
   ],
   "metadata": {
    "collapsed": false,
    "ExecuteTime": {
     "end_time": "2023-09-25T09:15:17.281245200Z",
     "start_time": "2023-09-25T09:15:15.517912100Z"
    }
   },
   "id": "59c1c075b9c7103e"
  },
  {
   "cell_type": "code",
   "execution_count": 35,
   "outputs": [],
   "source": [
    "# Create and train the XGBoost model\n",
    "params = {\n",
    "    'objective': 'multi:softmax',  # Use softmax for multiclass classification\n",
    "    'num_class': len(y.unique()),  # Number of unique products\n",
    "    'max_depth': 5,  \n",
    "    'learning_rate': 0.005,  \n",
    "    'n_estimators': 200, \n",
    "    'eval_metric': 'mlogloss',  # Set eval metric here\n",
    "    'early_stopping_rounds': 10\n",
    "}"
   ],
   "metadata": {
    "collapsed": false,
    "ExecuteTime": {
     "end_time": "2023-09-25T09:17:30.827461100Z",
     "start_time": "2023-09-25T09:17:30.671518700Z"
    }
   },
   "id": "c7049044d89df570"
  },
  {
   "cell_type": "code",
   "execution_count": 36,
   "outputs": [
    {
     "name": "stderr",
     "output_type": "stream",
     "text": [
      "C:\\Users\\dell 5590 i7\\AppData\\Local\\Programs\\Python\\Python310\\lib\\site-packages\\xgboost\\data.py:312: FutureWarning: is_sparse is deprecated and will be removed in a future version. Check `isinstance(dtype, pd.SparseDtype)` instead.\n",
      "  if is_sparse(dtype):\n",
      "C:\\Users\\dell 5590 i7\\AppData\\Local\\Programs\\Python\\Python310\\lib\\site-packages\\xgboost\\data.py:314: FutureWarning: is_categorical_dtype is deprecated and will be removed in a future version. Use isinstance(dtype, CategoricalDtype) instead\n",
      "  elif is_categorical_dtype(dtype) and enable_categorical:\n",
      "C:\\Users\\dell 5590 i7\\AppData\\Local\\Programs\\Python\\Python310\\lib\\site-packages\\xgboost\\data.py:345: FutureWarning: is_categorical_dtype is deprecated and will be removed in a future version. Use isinstance(dtype, CategoricalDtype) instead\n",
      "  if is_categorical_dtype(dtype)\n",
      "C:\\Users\\dell 5590 i7\\AppData\\Local\\Programs\\Python\\Python310\\lib\\site-packages\\xgboost\\data.py:336: FutureWarning: is_categorical_dtype is deprecated and will be removed in a future version. Use isinstance(dtype, CategoricalDtype) instead\n",
      "  return is_int or is_bool or is_float or is_categorical_dtype(dtype)\n",
      "C:\\Users\\dell 5590 i7\\AppData\\Local\\Programs\\Python\\Python310\\lib\\site-packages\\xgboost\\data.py:440: FutureWarning: is_sparse is deprecated and will be removed in a future version. Check `isinstance(dtype, pd.SparseDtype)` instead.\n",
      "  if is_sparse(data):\n",
      "C:\\Users\\dell 5590 i7\\AppData\\Local\\Programs\\Python\\Python310\\lib\\site-packages\\xgboost\\data.py:312: FutureWarning: is_sparse is deprecated and will be removed in a future version. Check `isinstance(dtype, pd.SparseDtype)` instead.\n",
      "  if is_sparse(dtype):\n",
      "C:\\Users\\dell 5590 i7\\AppData\\Local\\Programs\\Python\\Python310\\lib\\site-packages\\xgboost\\data.py:314: FutureWarning: is_categorical_dtype is deprecated and will be removed in a future version. Use isinstance(dtype, CategoricalDtype) instead\n",
      "  elif is_categorical_dtype(dtype) and enable_categorical:\n",
      "C:\\Users\\dell 5590 i7\\AppData\\Local\\Programs\\Python\\Python310\\lib\\site-packages\\xgboost\\data.py:345: FutureWarning: is_categorical_dtype is deprecated and will be removed in a future version. Use isinstance(dtype, CategoricalDtype) instead\n",
      "  if is_categorical_dtype(dtype)\n",
      "C:\\Users\\dell 5590 i7\\AppData\\Local\\Programs\\Python\\Python310\\lib\\site-packages\\xgboost\\data.py:336: FutureWarning: is_categorical_dtype is deprecated and will be removed in a future version. Use isinstance(dtype, CategoricalDtype) instead\n",
      "  return is_int or is_bool or is_float or is_categorical_dtype(dtype)\n",
      "C:\\Users\\dell 5590 i7\\AppData\\Local\\Programs\\Python\\Python310\\lib\\site-packages\\xgboost\\data.py:440: FutureWarning: is_sparse is deprecated and will be removed in a future version. Check `isinstance(dtype, pd.SparseDtype)` instead.\n",
      "  if is_sparse(data):\n"
     ]
    },
    {
     "name": "stdout",
     "output_type": "stream",
     "text": [
      "[0]\tvalidation_0-mlogloss:4.56511\n",
      "[1]\tvalidation_0-mlogloss:4.32621\n",
      "[2]\tvalidation_0-mlogloss:4.13793\n",
      "[3]\tvalidation_0-mlogloss:3.98188\n",
      "[4]\tvalidation_0-mlogloss:3.84834\n",
      "[5]\tvalidation_0-mlogloss:3.73147\n",
      "[6]\tvalidation_0-mlogloss:3.62748\n",
      "[7]\tvalidation_0-mlogloss:3.53376\n",
      "[8]\tvalidation_0-mlogloss:3.44842\n",
      "[9]\tvalidation_0-mlogloss:3.37006\n",
      "[10]\tvalidation_0-mlogloss:3.29761\n",
      "[11]\tvalidation_0-mlogloss:3.23023\n",
      "[12]\tvalidation_0-mlogloss:3.16725\n",
      "[13]\tvalidation_0-mlogloss:3.10812\n",
      "[14]\tvalidation_0-mlogloss:3.05239\n",
      "[15]\tvalidation_0-mlogloss:2.99970\n",
      "[16]\tvalidation_0-mlogloss:2.94971\n",
      "[17]\tvalidation_0-mlogloss:2.90218\n",
      "[18]\tvalidation_0-mlogloss:2.85686\n",
      "[19]\tvalidation_0-mlogloss:2.81356\n",
      "[20]\tvalidation_0-mlogloss:2.77210\n",
      "[21]\tvalidation_0-mlogloss:2.73234\n",
      "[22]\tvalidation_0-mlogloss:2.69414\n",
      "[23]\tvalidation_0-mlogloss:2.65739\n",
      "[24]\tvalidation_0-mlogloss:2.62197\n",
      "[25]\tvalidation_0-mlogloss:2.58779\n",
      "[26]\tvalidation_0-mlogloss:2.55478\n",
      "[27]\tvalidation_0-mlogloss:2.52284\n",
      "[28]\tvalidation_0-mlogloss:2.49193\n",
      "[29]\tvalidation_0-mlogloss:2.46196\n",
      "[30]\tvalidation_0-mlogloss:2.43290\n",
      "[31]\tvalidation_0-mlogloss:2.40467\n",
      "[32]\tvalidation_0-mlogloss:2.37725\n",
      "[33]\tvalidation_0-mlogloss:2.35057\n",
      "[34]\tvalidation_0-mlogloss:2.32462\n",
      "[35]\tvalidation_0-mlogloss:2.29933\n",
      "[36]\tvalidation_0-mlogloss:2.27469\n",
      "[37]\tvalidation_0-mlogloss:2.25067\n",
      "[38]\tvalidation_0-mlogloss:2.22722\n",
      "[39]\tvalidation_0-mlogloss:2.20433\n",
      "[40]\tvalidation_0-mlogloss:2.18197\n",
      "[41]\tvalidation_0-mlogloss:2.16012\n",
      "[42]\tvalidation_0-mlogloss:2.13875\n",
      "[43]\tvalidation_0-mlogloss:2.11785\n",
      "[44]\tvalidation_0-mlogloss:2.09739\n",
      "[45]\tvalidation_0-mlogloss:2.07735\n",
      "[46]\tvalidation_0-mlogloss:2.05773\n",
      "[47]\tvalidation_0-mlogloss:2.03849\n",
      "[48]\tvalidation_0-mlogloss:2.01964\n",
      "[49]\tvalidation_0-mlogloss:2.00115\n",
      "[50]\tvalidation_0-mlogloss:1.98301\n",
      "[51]\tvalidation_0-mlogloss:1.96521\n",
      "[52]\tvalidation_0-mlogloss:1.94774\n",
      "[53]\tvalidation_0-mlogloss:1.93058\n",
      "[54]\tvalidation_0-mlogloss:1.91372\n",
      "[55]\tvalidation_0-mlogloss:1.89716\n",
      "[56]\tvalidation_0-mlogloss:1.88088\n",
      "[57]\tvalidation_0-mlogloss:1.86488\n",
      "[58]\tvalidation_0-mlogloss:1.84914\n",
      "[59]\tvalidation_0-mlogloss:1.83367\n",
      "[60]\tvalidation_0-mlogloss:1.81844\n",
      "[61]\tvalidation_0-mlogloss:1.80345\n",
      "[62]\tvalidation_0-mlogloss:1.78870\n",
      "[63]\tvalidation_0-mlogloss:1.77417\n",
      "[64]\tvalidation_0-mlogloss:1.75987\n",
      "[65]\tvalidation_0-mlogloss:1.74578\n",
      "[66]\tvalidation_0-mlogloss:1.73190\n",
      "[67]\tvalidation_0-mlogloss:1.71823\n",
      "[68]\tvalidation_0-mlogloss:1.70475\n",
      "[69]\tvalidation_0-mlogloss:1.69147\n",
      "[70]\tvalidation_0-mlogloss:1.67837\n",
      "[71]\tvalidation_0-mlogloss:1.66545\n",
      "[72]\tvalidation_0-mlogloss:1.65272\n",
      "[73]\tvalidation_0-mlogloss:1.64015\n",
      "[74]\tvalidation_0-mlogloss:1.62776\n",
      "[75]\tvalidation_0-mlogloss:1.61552\n",
      "[76]\tvalidation_0-mlogloss:1.60345\n",
      "[77]\tvalidation_0-mlogloss:1.59154\n",
      "[78]\tvalidation_0-mlogloss:1.57978\n",
      "[79]\tvalidation_0-mlogloss:1.56817\n",
      "[80]\tvalidation_0-mlogloss:1.55670\n",
      "[81]\tvalidation_0-mlogloss:1.54538\n",
      "[82]\tvalidation_0-mlogloss:1.53420\n",
      "[83]\tvalidation_0-mlogloss:1.52315\n",
      "[84]\tvalidation_0-mlogloss:1.51223\n",
      "[85]\tvalidation_0-mlogloss:1.50145\n",
      "[86]\tvalidation_0-mlogloss:1.49079\n",
      "[87]\tvalidation_0-mlogloss:1.48026\n",
      "[88]\tvalidation_0-mlogloss:1.46985\n",
      "[89]\tvalidation_0-mlogloss:1.45956\n",
      "[90]\tvalidation_0-mlogloss:1.44939\n",
      "[91]\tvalidation_0-mlogloss:1.43933\n",
      "[92]\tvalidation_0-mlogloss:1.42939\n",
      "[93]\tvalidation_0-mlogloss:1.41955\n",
      "[94]\tvalidation_0-mlogloss:1.40983\n",
      "[95]\tvalidation_0-mlogloss:1.40020\n",
      "[96]\tvalidation_0-mlogloss:1.39069\n",
      "[97]\tvalidation_0-mlogloss:1.38127\n",
      "[98]\tvalidation_0-mlogloss:1.37195\n",
      "[99]\tvalidation_0-mlogloss:1.36274\n",
      "[100]\tvalidation_0-mlogloss:1.35362\n",
      "[101]\tvalidation_0-mlogloss:1.34459\n",
      "[102]\tvalidation_0-mlogloss:1.33565\n",
      "[103]\tvalidation_0-mlogloss:1.32681\n",
      "[104]\tvalidation_0-mlogloss:1.31806\n",
      "[105]\tvalidation_0-mlogloss:1.30939\n",
      "[106]\tvalidation_0-mlogloss:1.30081\n",
      "[107]\tvalidation_0-mlogloss:1.29232\n",
      "[108]\tvalidation_0-mlogloss:1.28390\n",
      "[109]\tvalidation_0-mlogloss:1.27558\n",
      "[110]\tvalidation_0-mlogloss:1.26733\n",
      "[111]\tvalidation_0-mlogloss:1.25916\n",
      "[112]\tvalidation_0-mlogloss:1.25107\n",
      "[113]\tvalidation_0-mlogloss:1.24305\n",
      "[114]\tvalidation_0-mlogloss:1.23511\n",
      "[115]\tvalidation_0-mlogloss:1.22725\n",
      "[116]\tvalidation_0-mlogloss:1.21945\n",
      "[117]\tvalidation_0-mlogloss:1.21173\n",
      "[118]\tvalidation_0-mlogloss:1.20408\n",
      "[119]\tvalidation_0-mlogloss:1.19650\n",
      "[120]\tvalidation_0-mlogloss:1.18899\n",
      "[121]\tvalidation_0-mlogloss:1.18155\n",
      "[122]\tvalidation_0-mlogloss:1.17417\n",
      "[123]\tvalidation_0-mlogloss:1.16686\n",
      "[124]\tvalidation_0-mlogloss:1.15961\n",
      "[125]\tvalidation_0-mlogloss:1.15243\n",
      "[126]\tvalidation_0-mlogloss:1.14531\n",
      "[127]\tvalidation_0-mlogloss:1.13825\n",
      "[128]\tvalidation_0-mlogloss:1.13125\n",
      "[129]\tvalidation_0-mlogloss:1.12431\n",
      "[130]\tvalidation_0-mlogloss:1.11743\n",
      "[131]\tvalidation_0-mlogloss:1.11061\n",
      "[132]\tvalidation_0-mlogloss:1.10385\n",
      "[133]\tvalidation_0-mlogloss:1.09714\n",
      "[134]\tvalidation_0-mlogloss:1.09049\n",
      "[135]\tvalidation_0-mlogloss:1.08390\n",
      "[136]\tvalidation_0-mlogloss:1.07736\n",
      "[137]\tvalidation_0-mlogloss:1.07087\n",
      "[138]\tvalidation_0-mlogloss:1.06443\n",
      "[139]\tvalidation_0-mlogloss:1.05805\n",
      "[140]\tvalidation_0-mlogloss:1.05172\n",
      "[141]\tvalidation_0-mlogloss:1.04544\n",
      "[142]\tvalidation_0-mlogloss:1.03921\n",
      "[143]\tvalidation_0-mlogloss:1.03303\n",
      "[144]\tvalidation_0-mlogloss:1.02690\n",
      "[145]\tvalidation_0-mlogloss:1.02082\n",
      "[146]\tvalidation_0-mlogloss:1.01479\n",
      "[147]\tvalidation_0-mlogloss:1.00880\n",
      "[148]\tvalidation_0-mlogloss:1.00286\n",
      "[149]\tvalidation_0-mlogloss:0.99697\n",
      "[150]\tvalidation_0-mlogloss:0.99112\n",
      "[151]\tvalidation_0-mlogloss:0.98531\n",
      "[152]\tvalidation_0-mlogloss:0.97955\n",
      "[153]\tvalidation_0-mlogloss:0.97384\n",
      "[154]\tvalidation_0-mlogloss:0.96816\n",
      "[155]\tvalidation_0-mlogloss:0.96253\n",
      "[156]\tvalidation_0-mlogloss:0.95695\n",
      "[157]\tvalidation_0-mlogloss:0.95140\n",
      "[158]\tvalidation_0-mlogloss:0.94590\n",
      "[159]\tvalidation_0-mlogloss:0.94043\n",
      "[160]\tvalidation_0-mlogloss:0.93501\n",
      "[161]\tvalidation_0-mlogloss:0.92963\n",
      "[162]\tvalidation_0-mlogloss:0.92428\n",
      "[163]\tvalidation_0-mlogloss:0.91898\n",
      "[164]\tvalidation_0-mlogloss:0.91371\n",
      "[165]\tvalidation_0-mlogloss:0.90848\n",
      "[166]\tvalidation_0-mlogloss:0.90329\n",
      "[167]\tvalidation_0-mlogloss:0.89814\n",
      "[168]\tvalidation_0-mlogloss:0.89302\n",
      "[169]\tvalidation_0-mlogloss:0.88794\n",
      "[170]\tvalidation_0-mlogloss:0.88290\n",
      "[171]\tvalidation_0-mlogloss:0.87789\n",
      "[172]\tvalidation_0-mlogloss:0.87292\n",
      "[173]\tvalidation_0-mlogloss:0.86798\n",
      "[174]\tvalidation_0-mlogloss:0.86308\n",
      "[175]\tvalidation_0-mlogloss:0.85821\n",
      "[176]\tvalidation_0-mlogloss:0.85338\n",
      "[177]\tvalidation_0-mlogloss:0.84858\n",
      "[178]\tvalidation_0-mlogloss:0.84381\n",
      "[179]\tvalidation_0-mlogloss:0.83907\n",
      "[180]\tvalidation_0-mlogloss:0.83437\n",
      "[181]\tvalidation_0-mlogloss:0.82970\n",
      "[182]\tvalidation_0-mlogloss:0.82506\n",
      "[183]\tvalidation_0-mlogloss:0.82046\n",
      "[184]\tvalidation_0-mlogloss:0.81588\n",
      "[185]\tvalidation_0-mlogloss:0.81134\n",
      "[186]\tvalidation_0-mlogloss:0.80682\n",
      "[187]\tvalidation_0-mlogloss:0.80234\n",
      "[188]\tvalidation_0-mlogloss:0.79789\n",
      "[189]\tvalidation_0-mlogloss:0.79347\n",
      "[190]\tvalidation_0-mlogloss:0.78907\n",
      "[191]\tvalidation_0-mlogloss:0.78471\n",
      "[192]\tvalidation_0-mlogloss:0.78037\n",
      "[193]\tvalidation_0-mlogloss:0.77606\n",
      "[194]\tvalidation_0-mlogloss:0.77179\n",
      "[195]\tvalidation_0-mlogloss:0.76753\n",
      "[196]\tvalidation_0-mlogloss:0.76331\n",
      "[197]\tvalidation_0-mlogloss:0.75912\n",
      "[198]\tvalidation_0-mlogloss:0.75495\n",
      "[199]\tvalidation_0-mlogloss:0.75081\n"
     ]
    },
    {
     "data": {
      "text/plain": "XGBClassifier(base_score=None, booster=None, callbacks=None,\n              colsample_bylevel=None, colsample_bynode=None,\n              colsample_bytree=None, early_stopping_rounds=10,\n              enable_categorical=False, eval_metric='mlogloss',\n              feature_types=None, gamma=None, gpu_id=None, grow_policy=None,\n              importance_type=None, interaction_constraints=None,\n              learning_rate=0.005, max_bin=None, max_cat_threshold=None,\n              max_cat_to_onehot=None, max_delta_step=None, max_depth=5,\n              max_leaves=None, min_child_weight=None, missing=nan,\n              monotone_constraints=None, n_estimators=200, n_jobs=None,\n              num_class=134, num_parallel_tree=None, objective='multi:softmax', ...)",
      "text/html": "<style>#sk-container-id-1 {color: black;}#sk-container-id-1 pre{padding: 0;}#sk-container-id-1 div.sk-toggleable {background-color: white;}#sk-container-id-1 label.sk-toggleable__label {cursor: pointer;display: block;width: 100%;margin-bottom: 0;padding: 0.3em;box-sizing: border-box;text-align: center;}#sk-container-id-1 label.sk-toggleable__label-arrow:before {content: \"▸\";float: left;margin-right: 0.25em;color: #696969;}#sk-container-id-1 label.sk-toggleable__label-arrow:hover:before {color: black;}#sk-container-id-1 div.sk-estimator:hover label.sk-toggleable__label-arrow:before {color: black;}#sk-container-id-1 div.sk-toggleable__content {max-height: 0;max-width: 0;overflow: hidden;text-align: left;background-color: #f0f8ff;}#sk-container-id-1 div.sk-toggleable__content pre {margin: 0.2em;color: black;border-radius: 0.25em;background-color: #f0f8ff;}#sk-container-id-1 input.sk-toggleable__control:checked~div.sk-toggleable__content {max-height: 200px;max-width: 100%;overflow: auto;}#sk-container-id-1 input.sk-toggleable__control:checked~label.sk-toggleable__label-arrow:before {content: \"▾\";}#sk-container-id-1 div.sk-estimator input.sk-toggleable__control:checked~label.sk-toggleable__label {background-color: #d4ebff;}#sk-container-id-1 div.sk-label input.sk-toggleable__control:checked~label.sk-toggleable__label {background-color: #d4ebff;}#sk-container-id-1 input.sk-hidden--visually {border: 0;clip: rect(1px 1px 1px 1px);clip: rect(1px, 1px, 1px, 1px);height: 1px;margin: -1px;overflow: hidden;padding: 0;position: absolute;width: 1px;}#sk-container-id-1 div.sk-estimator {font-family: monospace;background-color: #f0f8ff;border: 1px dotted black;border-radius: 0.25em;box-sizing: border-box;margin-bottom: 0.5em;}#sk-container-id-1 div.sk-estimator:hover {background-color: #d4ebff;}#sk-container-id-1 div.sk-parallel-item::after {content: \"\";width: 100%;border-bottom: 1px solid gray;flex-grow: 1;}#sk-container-id-1 div.sk-label:hover label.sk-toggleable__label {background-color: #d4ebff;}#sk-container-id-1 div.sk-serial::before {content: \"\";position: absolute;border-left: 1px solid gray;box-sizing: border-box;top: 0;bottom: 0;left: 50%;z-index: 0;}#sk-container-id-1 div.sk-serial {display: flex;flex-direction: column;align-items: center;background-color: white;padding-right: 0.2em;padding-left: 0.2em;position: relative;}#sk-container-id-1 div.sk-item {position: relative;z-index: 1;}#sk-container-id-1 div.sk-parallel {display: flex;align-items: stretch;justify-content: center;background-color: white;position: relative;}#sk-container-id-1 div.sk-item::before, #sk-container-id-1 div.sk-parallel-item::before {content: \"\";position: absolute;border-left: 1px solid gray;box-sizing: border-box;top: 0;bottom: 0;left: 50%;z-index: -1;}#sk-container-id-1 div.sk-parallel-item {display: flex;flex-direction: column;z-index: 1;position: relative;background-color: white;}#sk-container-id-1 div.sk-parallel-item:first-child::after {align-self: flex-end;width: 50%;}#sk-container-id-1 div.sk-parallel-item:last-child::after {align-self: flex-start;width: 50%;}#sk-container-id-1 div.sk-parallel-item:only-child::after {width: 0;}#sk-container-id-1 div.sk-dashed-wrapped {border: 1px dashed gray;margin: 0 0.4em 0.5em 0.4em;box-sizing: border-box;padding-bottom: 0.4em;background-color: white;}#sk-container-id-1 div.sk-label label {font-family: monospace;font-weight: bold;display: inline-block;line-height: 1.2em;}#sk-container-id-1 div.sk-label-container {text-align: center;}#sk-container-id-1 div.sk-container {/* jupyter's `normalize.less` sets `[hidden] { display: none; }` but bootstrap.min.css set `[hidden] { display: none !important; }` so we also need the `!important` here to be able to override the default hidden behavior on the sphinx rendered scikit-learn.org. See: https://github.com/scikit-learn/scikit-learn/issues/21755 */display: inline-block !important;position: relative;}#sk-container-id-1 div.sk-text-repr-fallback {display: none;}</style><div id=\"sk-container-id-1\" class=\"sk-top-container\"><div class=\"sk-text-repr-fallback\"><pre>XGBClassifier(base_score=None, booster=None, callbacks=None,\n              colsample_bylevel=None, colsample_bynode=None,\n              colsample_bytree=None, early_stopping_rounds=10,\n              enable_categorical=False, eval_metric=&#x27;mlogloss&#x27;,\n              feature_types=None, gamma=None, gpu_id=None, grow_policy=None,\n              importance_type=None, interaction_constraints=None,\n              learning_rate=0.005, max_bin=None, max_cat_threshold=None,\n              max_cat_to_onehot=None, max_delta_step=None, max_depth=5,\n              max_leaves=None, min_child_weight=None, missing=nan,\n              monotone_constraints=None, n_estimators=200, n_jobs=None,\n              num_class=134, num_parallel_tree=None, objective=&#x27;multi:softmax&#x27;, ...)</pre><b>In a Jupyter environment, please rerun this cell to show the HTML representation or trust the notebook. <br />On GitHub, the HTML representation is unable to render, please try loading this page with nbviewer.org.</b></div><div class=\"sk-container\" hidden><div class=\"sk-item\"><div class=\"sk-estimator sk-toggleable\"><input class=\"sk-toggleable__control sk-hidden--visually\" id=\"sk-estimator-id-1\" type=\"checkbox\" checked><label for=\"sk-estimator-id-1\" class=\"sk-toggleable__label sk-toggleable__label-arrow\">XGBClassifier</label><div class=\"sk-toggleable__content\"><pre>XGBClassifier(base_score=None, booster=None, callbacks=None,\n              colsample_bylevel=None, colsample_bynode=None,\n              colsample_bytree=None, early_stopping_rounds=10,\n              enable_categorical=False, eval_metric=&#x27;mlogloss&#x27;,\n              feature_types=None, gamma=None, gpu_id=None, grow_policy=None,\n              importance_type=None, interaction_constraints=None,\n              learning_rate=0.005, max_bin=None, max_cat_threshold=None,\n              max_cat_to_onehot=None, max_delta_step=None, max_depth=5,\n              max_leaves=None, min_child_weight=None, missing=nan,\n              monotone_constraints=None, n_estimators=200, n_jobs=None,\n              num_class=134, num_parallel_tree=None, objective=&#x27;multi:softmax&#x27;, ...)</pre></div></div></div></div></div>"
     },
     "execution_count": 36,
     "metadata": {},
     "output_type": "execute_result"
    }
   ],
   "source": [
    "from sklearn.metrics import accuracy_score, classification_report, confusion_matrix\n",
    "model = xgb.XGBClassifier(**params)\n",
    "model.fit(X_train, y_train, eval_set=[(X_val, y_val)],  verbose=1)"
   ],
   "metadata": {
    "collapsed": false,
    "ExecuteTime": {
     "end_time": "2023-09-25T12:26:00.723676600Z",
     "start_time": "2023-09-25T09:17:30.713393200Z"
    }
   },
   "id": "65cc19dd5a4982cd"
  },
  {
   "cell_type": "code",
   "execution_count": 37,
   "outputs": [],
   "source": [
    "# Extract feature importances\n",
    "feature_importances = model.feature_importances_"
   ],
   "metadata": {
    "collapsed": false,
    "ExecuteTime": {
     "end_time": "2023-09-25T12:26:00.941091700Z",
     "start_time": "2023-09-25T12:26:00.715695Z"
    }
   },
   "id": "c34e11c2a84dea91"
  },
  {
   "cell_type": "code",
   "execution_count": 38,
   "outputs": [
    {
     "name": "stderr",
     "output_type": "stream",
     "text": [
      "C:\\Users\\dell 5590 i7\\AppData\\Local\\Programs\\Python\\Python310\\lib\\site-packages\\xgboost\\data.py:312: FutureWarning: is_sparse is deprecated and will be removed in a future version. Check `isinstance(dtype, pd.SparseDtype)` instead.\n",
      "  if is_sparse(dtype):\n",
      "C:\\Users\\dell 5590 i7\\AppData\\Local\\Programs\\Python\\Python310\\lib\\site-packages\\xgboost\\data.py:314: FutureWarning: is_categorical_dtype is deprecated and will be removed in a future version. Use isinstance(dtype, CategoricalDtype) instead\n",
      "  elif is_categorical_dtype(dtype) and enable_categorical:\n",
      "C:\\Users\\dell 5590 i7\\AppData\\Local\\Programs\\Python\\Python310\\lib\\site-packages\\xgboost\\data.py:345: FutureWarning: is_categorical_dtype is deprecated and will be removed in a future version. Use isinstance(dtype, CategoricalDtype) instead\n",
      "  if is_categorical_dtype(dtype)\n",
      "C:\\Users\\dell 5590 i7\\AppData\\Local\\Programs\\Python\\Python310\\lib\\site-packages\\xgboost\\data.py:336: FutureWarning: is_categorical_dtype is deprecated and will be removed in a future version. Use isinstance(dtype, CategoricalDtype) instead\n",
      "  return is_int or is_bool or is_float or is_categorical_dtype(dtype)\n"
     ]
    },
    {
     "name": "stdout",
     "output_type": "stream",
     "text": [
      "Accuracy: 1.0\n"
     ]
    }
   ],
   "source": [
    "# Make predictions on the test set\n",
    "y_pred = model.predict(X_test)\n",
    "\n",
    "# Evaluate the model's performance on the test set\n",
    "accuracy = accuracy_score(y_test, y_pred)\n",
    "print(f\"Accuracy: {accuracy}\")"
   ],
   "metadata": {
    "collapsed": false,
    "ExecuteTime": {
     "end_time": "2023-09-25T12:26:10.692666700Z",
     "start_time": "2023-09-25T12:26:00.774536300Z"
    }
   },
   "id": "1e5c0436321ab056"
  },
  {
   "cell_type": "code",
   "execution_count": 39,
   "outputs": [
    {
     "name": "stdout",
     "output_type": "stream",
     "text": [
      "Classification Report:\n",
      "               precision    recall  f1-score   support\n",
      "\n",
      "           0       1.00      1.00      1.00       455\n",
      "           1       1.00      1.00      1.00       519\n",
      "           2       1.00      1.00      1.00      2904\n",
      "           3       1.00      1.00      1.00      1268\n",
      "           4       1.00      1.00      1.00       375\n",
      "           5       1.00      1.00      1.00       225\n",
      "           6       1.00      1.00      1.00       208\n",
      "           7       1.00      1.00      1.00       218\n",
      "           8       1.00      1.00      1.00      1419\n",
      "           9       1.00      1.00      1.00        54\n",
      "          10       1.00      1.00      1.00       140\n",
      "          11       1.00      1.00      1.00       237\n",
      "          12       1.00      1.00      1.00       591\n",
      "          13       1.00      1.00      1.00       794\n",
      "          14       1.00      1.00      1.00       156\n",
      "          15       1.00      1.00      1.00      2327\n",
      "          16       1.00      1.00      1.00      2013\n",
      "          17       1.00      1.00      1.00        93\n",
      "          18       1.00      1.00      1.00      1518\n",
      "          19       1.00      1.00      1.00       407\n",
      "          20       1.00      1.00      1.00      6294\n",
      "          21       1.00      1.00      1.00       196\n",
      "          22       1.00      1.00      1.00      1056\n",
      "          23       1.00      1.00      1.00     22579\n",
      "          24       1.00      1.00      1.00       407\n",
      "          25       1.00      1.00      1.00      1284\n",
      "          26       1.00      1.00      1.00       280\n",
      "          27       1.00      1.00      1.00       231\n",
      "          28       1.00      1.00      1.00       419\n",
      "          29       1.00      1.00      1.00       472\n",
      "          30       1.00      1.00      1.00      3586\n",
      "          31       1.00      1.00      1.00      1782\n",
      "          32       1.00      1.00      1.00        71\n",
      "          33       1.00      1.00      1.00       481\n",
      "          34       1.00      1.00      1.00       832\n",
      "          35       1.00      1.00      1.00      1558\n",
      "          36       1.00      1.00      1.00      3207\n",
      "          37       1.00      1.00      1.00      2451\n",
      "          38       1.00      1.00      1.00       205\n",
      "          39       1.00      1.00      1.00       204\n",
      "          40       1.00      1.00      1.00       406\n",
      "          41       1.00      1.00      1.00       671\n",
      "          42       1.00      1.00      1.00       715\n",
      "          43       1.00      1.00      1.00        65\n",
      "          44       1.00      1.00      1.00      1846\n",
      "          45       1.00      1.00      1.00       122\n",
      "          46       1.00      1.00      1.00       316\n",
      "          47       1.00      1.00      1.00       452\n",
      "          48       1.00      1.00      1.00       770\n",
      "          49       1.00      1.00      1.00      1102\n",
      "          50       1.00      1.00      1.00       655\n",
      "          51       1.00      1.00      1.00      1449\n",
      "          52       1.00      1.00      1.00      2006\n",
      "          53       1.00      1.00      1.00      1547\n",
      "          54       1.00      1.00      1.00        54\n",
      "          55       1.00      1.00      1.00       169\n",
      "          56       1.00      1.00      1.00       662\n",
      "          57       1.00      1.00      1.00       229\n",
      "          58       1.00      1.00      1.00      1670\n",
      "          59       1.00      1.00      1.00       208\n",
      "          60       1.00      1.00      1.00      1507\n",
      "          61       1.00      1.00      1.00       204\n",
      "          62       1.00      1.00      1.00       905\n",
      "          63       1.00      1.00      1.00       649\n",
      "          64       1.00      1.00      1.00       207\n",
      "          65       1.00      1.00      1.00      1034\n",
      "          66       1.00      1.00      1.00      2204\n",
      "          67       1.00      1.00      1.00       102\n",
      "          68       1.00      1.00      1.00      2174\n",
      "          69       1.00      1.00      1.00       173\n",
      "          70       1.00      1.00      1.00       246\n",
      "          71       1.00      1.00      1.00      1367\n",
      "          72       1.00      1.00      1.00        75\n",
      "          73       1.00      1.00      1.00       584\n",
      "          74       1.00      1.00      1.00       593\n",
      "          75       1.00      1.00      1.00        89\n",
      "          76       1.00      1.00      1.00      2249\n",
      "          77       1.00      1.00      1.00      2765\n",
      "          78       1.00      1.00      1.00      1002\n",
      "          79       1.00      1.00      1.00        94\n",
      "          80       1.00      1.00      1.00      1877\n",
      "          81       1.00      1.00      1.00        53\n",
      "          82       1.00      1.00      1.00     21414\n",
      "          83       1.00      1.00      1.00      5486\n",
      "          84       1.00      1.00      1.00       403\n",
      "          85       1.00      1.00      1.00      2867\n",
      "          86       1.00      1.00      1.00       113\n",
      "          87       1.00      1.00      1.00      1818\n",
      "          88       1.00      1.00      1.00       600\n",
      "          89       1.00      1.00      1.00       137\n",
      "          90       1.00      1.00      1.00      3924\n",
      "          91       1.00      1.00      1.00      2391\n",
      "          92       1.00      1.00      1.00      1542\n",
      "          93       1.00      1.00      1.00      1551\n",
      "          94       1.00      1.00      1.00       431\n",
      "          95       1.00      1.00      1.00      2384\n",
      "          96       1.00      1.00      1.00       139\n",
      "          97       1.00      1.00      1.00      2047\n",
      "          98       1.00      1.00      1.00       532\n",
      "          99       1.00      1.00      1.00       442\n",
      "         100       1.00      1.00      1.00       126\n",
      "         101       1.00      1.00      1.00        45\n",
      "         102       1.00      1.00      1.00        68\n",
      "         103       1.00      1.00      1.00      1298\n",
      "         104       1.00      1.00      1.00       677\n",
      "         105       1.00      1.00      1.00      1903\n",
      "         106       1.00      1.00      1.00      4508\n",
      "         107       1.00      1.00      1.00      1831\n",
      "         108       1.00      1.00      1.00        70\n",
      "         109       1.00      1.00      1.00       662\n",
      "         110       1.00      1.00      1.00       276\n",
      "         111       1.00      1.00      1.00      3623\n",
      "         112       1.00      1.00      1.00        29\n",
      "         113       1.00      1.00      1.00       749\n",
      "         114       1.00      1.00      1.00      5246\n",
      "         115       1.00      1.00      1.00      3178\n",
      "         116       1.00      1.00      1.00      1917\n",
      "         117       1.00      1.00      1.00        72\n",
      "         118       1.00      1.00      1.00       112\n",
      "         119       1.00      1.00      1.00      8999\n",
      "         120       1.00      1.00      1.00      2294\n",
      "         121       1.00      1.00      1.00       462\n",
      "         122       1.00      1.00      1.00     10907\n",
      "         123       1.00      1.00      1.00       178\n",
      "         124       1.00      1.00      1.00       219\n",
      "         125       1.00      1.00      1.00       123\n",
      "         126       1.00      1.00      1.00       257\n",
      "         127       1.00      1.00      1.00      1159\n",
      "         128       1.00      1.00      1.00      1195\n",
      "         129       1.00      1.00      1.00       962\n",
      "         130       1.00      1.00      1.00      1562\n",
      "         131       1.00      1.00      1.00        42\n",
      "         132       1.00      1.00      1.00       126\n",
      "         133       1.00      1.00      1.00        72\n",
      "\n",
      "    accuracy                           1.00    201951\n",
      "   macro avg       1.00      1.00      1.00    201951\n",
      "weighted avg       1.00      1.00      1.00    201951\n",
      "\n",
      "Confusion Matrix:\n",
      " [[ 455    0    0 ...    0    0    0]\n",
      " [   0  519    0 ...    0    0    0]\n",
      " [   0    0 2904 ...    0    0    0]\n",
      " ...\n",
      " [   0    0    0 ...   42    0    0]\n",
      " [   0    0    0 ...    0  126    0]\n",
      " [   0    0    0 ...    0    0   72]]\n"
     ]
    }
   ],
   "source": [
    "\n",
    "# Print more detailed metrics\n",
    "classification_rep = classification_report(y_test, y_pred)\n",
    "confusion_mtx = confusion_matrix(y_test, y_pred)\n",
    "\n",
    "print(\"Classification Report:\\n\", classification_rep)\n",
    "print(\"Confusion Matrix:\\n\", confusion_mtx)\n"
   ],
   "metadata": {
    "collapsed": false,
    "ExecuteTime": {
     "end_time": "2023-09-25T12:26:11.461608400Z",
     "start_time": "2023-09-25T12:26:10.694662200Z"
    }
   },
   "id": "92df7e447285f426"
  },
  {
   "cell_type": "code",
   "execution_count": 40,
   "outputs": [],
   "source": [
    "\n",
    "model.save_model('xgboost_model.model')"
   ],
   "metadata": {
    "collapsed": false,
    "ExecuteTime": {
     "end_time": "2023-09-25T12:26:11.560346Z",
     "start_time": "2023-09-25T12:26:11.463603600Z"
    }
   },
   "id": "55129441977ba7da"
  },
  {
   "cell_type": "code",
   "execution_count": 48,
   "outputs": [
    {
     "name": "stdout",
     "output_type": "stream",
     "text": [
      "Predicted Product for User 38: bakery desserts\n",
      "User 1 not found in the DataFrame\n"
     ]
    }
   ],
   "source": [
    "\n",
    "model = xgb.XGBClassifier()\n",
    "model.load_model('xgboost_model.model')\n",
    "data = pd.read_csv('ECommerce_consumer behaviour.csv') \n",
    "def predict_product(user_id):\n",
    "    if user_id not in df['user_id'].values:\n",
    "        return \"User not found\"  \n",
    "    \n",
    "    # Retrieve the user's details from the DataFrame based on user_id\n",
    "    user_details = df[df['user_id'] == user_id].iloc[0]\n",
    "\n",
    "    # Extract relevant features for prediction\n",
    "    user_inputs = [\n",
    "        user_details['user_id'],\n",
    "        user_details['order_number'],\n",
    "        user_details['order_dow'],\n",
    "        user_details['order_hour_of_day'],\n",
    "        user_details['days_since_prior_order'],\n",
    "        user_details['add_to_cart_order'],\n",
    "        user_details['avg_order_size'],\n",
    "        user_details['most_frequent_product'],\n",
    "        user_details['reorder_rate'],\n",
    "        user_details['popularity']\n",
    "    ]\n",
    "    # Make predictions using your XGBoost model\n",
    "    predicted_product_id = model.predict([user_inputs])[0]\n",
    "\n",
    "    # Map the product ID to the product name\n",
    "    product_name = data[data['product_id'] == predicted_product_id]['product_name'].iloc[0]\n",
    "\n",
    "    # Return the predicted product name\n",
    "    return product_name\n",
    "\n",
    "# Example usage\n",
    "user_id_to_predict = 38  \n",
    "\n",
    "# Check if the user_id exists before making predictions\n",
    "if user_id_to_predict in df['user_id'].values:\n",
    "    predicted_product_name = predict_product(user_id_to_predict)\n",
    "    print(f\"Predicted Product for User {user_id_to_predict}: {predicted_product_name}\")\n",
    "else:\n",
    "    print(f\"User {user_id_to_predict} not found in the DataFrame\")\n",
    "   \n",
    "user_id_to_predict2 = 1\n",
    "\n",
    "# Check if the user_id exists before making predictions\n",
    "if user_id_to_predict2 in df['user_id'].values:\n",
    "    predicted_product = predict_product(user_id_to_predict2)\n",
    "    print(f\"Predicted Product for User {user_id_to_predict2}: {predicted_product}\")\n",
    "else:\n",
    "    print(f\"User {user_id_to_predict2} not found in the DataFrame\")\n"
   ],
   "metadata": {
    "collapsed": false,
    "ExecuteTime": {
     "end_time": "2023-09-25T12:48:44.925306700Z",
     "start_time": "2023-09-25T12:48:42.149994200Z"
    }
   },
   "id": "cdeb9f9b62bf5768"
  },
  {
   "cell_type": "code",
   "execution_count": null,
   "outputs": [],
   "source": [],
   "metadata": {
    "collapsed": false
   },
   "id": "1f6fee4857a57fed"
  }
 ],
 "metadata": {
  "kernelspec": {
   "display_name": "Python 3",
   "language": "python",
   "name": "python3"
  },
  "language_info": {
   "codemirror_mode": {
    "name": "ipython",
    "version": 2
   },
   "file_extension": ".py",
   "mimetype": "text/x-python",
   "name": "python",
   "nbconvert_exporter": "python",
   "pygments_lexer": "ipython2",
   "version": "2.7.6"
  }
 },
 "nbformat": 4,
 "nbformat_minor": 5
}
